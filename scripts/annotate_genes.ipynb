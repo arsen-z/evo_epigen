{
 "cells": [
  {
   "cell_type": "markdown",
   "metadata": {},
   "source": [
    "# Annotate genes-outliers with DAVID\n",
    "\n",
    "### Authors:\n",
    "Anna Igolkina  \n",
    "Christina Karandasheva"
   ]
  },
  {
   "cell_type": "code",
   "execution_count": 99,
   "metadata": {},
   "outputs": [],
   "source": [
    "# # To install GO.db package for R 3.5\n",
    "# if (!requireNamespace(\"BiocManager\", quietly = TRUE))\n",
    "#     install.packages(\"BiocManager\")\n",
    "# BiocManager::install(\"GO.db\", version = \"3.8\")\n",
    "# -------------------------------------------------------\n",
    "library('metap')\n",
    "suppressMessages(library('GO.db'))\n",
    "path_class_daniil = '../go_daniil/'\n",
    "path_ensembl = '../ensembl_annotation/'\n",
    "path_david_clusters = '../clusters_david/'\n",
    "\n",
    "\n",
    "file_david_terms = 'david_all_go.txt'\n",
    "\n",
    "target_tags = c('H3K4me3', 'H3K9ac', 'H3K27ac', 'H3K27me3', 'H3K9me3') \n",
    "organisms = c('human', 'mouse')\n",
    "\n",
    "bad_list = c('general_terms.txt', 'other.txt', 'other_metabolism.txt')"
   ]
  },
  {
   "cell_type": "markdown",
   "metadata": {},
   "source": [
    "### Functions"
   ]
  },
  {
   "cell_type": "code",
   "execution_count": 2,
   "metadata": {},
   "outputs": [],
   "source": [
    "# -------------------------------------------------------\n",
    "# The function returns ancestrors for a GO-term\n",
    "# -------------------------------------------------------\n",
    "get_anc_by_term <-function(term)\n",
    "{\n",
    "    ontology = Ontology(term)\n",
    "    if (is.na(ontology)){ return (c())}\n",
    "\n",
    "    if (ontology == 'CC') {GOxxANCESTOR = GOCCANCESTOR}\n",
    "    if (ontology == 'BP') {GOxxANCESTOR = GOBPANCESTOR}\n",
    "    if (ontology == 'MF') {GOxxANCESTOR = GOMFANCESTOR}\n",
    "\n",
    "    ancestors = get(term, GOxxANCESTOR)\n",
    "    ancestors = ancestors[ancestors!='all']\n",
    "    return (ancestors)\n",
    "}\n",
    "\n",
    "# -------------------------------------------------------\n",
    "# This function returns a probable category for the term \n",
    "# if this term is in c('general_terms.txt', 'other.txt', 'other_metabolism.txt').\n",
    "# -------------------------------------------------------\n",
    "get_class_by_term <- function(term, ancestors_of_terms, classes_of_terms)\n",
    "{\n",
    "    bad_list = c('general_terms.txt', 'other.txt', 'other_metabolism.txt')\n",
    "    if(!(term %in% bad_list)){return (NULL)}\n",
    "    \n",
    "    ancestors = get_anc_by_term(term)\n",
    "    if(is.null(ancestors)){return (NULL)}\n",
    "    x = intersect(ancestors, names(ancestors_of_terms))\n",
    "    if (length(x) == 0) {return (NULL)}\n",
    "    \n",
    "    y = sapply(x, function(y) classes_of_terms[[y]])\n",
    "    y = setdiff(y, c('general_terms.txt', 'other.txt', 'other_metabolism.txt'))\n",
    "    if (length(y) == 0) {return (NULL)}\n",
    "               \n",
    "    y = table(y)\n",
    "    res_class = names(y)\n",
    "    tmp = res_class[y == max(y)]\n",
    "    return(tmp)\n",
    "}  \n",
    "# -------------------------------------------------------\n",
    "# This function tries to find the most similat term with by common ancestors\n",
    "# -------------------------------------------------------\n",
    "get_class_by_similar_anc <- function(term, ancestors_of_terms, classes_of_terms)\n",
    "{\n",
    "    anc = get_anc_by_term(term)\n",
    "    if(is.null(anc)){return('other.txt')}\n",
    "    bad_list = c('general_terms.txt', 'other.txt', 'other_metabolism.txt')\n",
    "    similar_term = 'other.txt'\n",
    "    n_similar = 0\n",
    "    for(term2 in names(ancestors_of_terms))\n",
    "    {\n",
    "        if(classes_of_terms[term2] %in% bad_list){next}\n",
    "        tmp_intersect = intersect(anc, ancestors_of_terms[term2])\n",
    "        n_common = length(tmp_intersect)\n",
    "        if(n_common == 0) {next}\n",
    "        \n",
    "        n_common = length(tmp_intersect[[1]])\n",
    "        if(n_common > n_similar)\n",
    "        {\n",
    "            n_similar = n_common\n",
    "            similar_term = term2\n",
    "        }\n",
    "    }\n",
    "    if(n_similar == 0) {return('other.txt')}\n",
    "    return(classes_of_terms[similar_term])\n",
    "}  "
   ]
  },
  {
   "cell_type": "markdown",
   "metadata": {},
   "source": [
    "## Read all Daniil's annotation"
   ]
  },
  {
   "cell_type": "code",
   "execution_count": 3,
   "metadata": {},
   "outputs": [
    {
     "name": "stderr",
     "output_type": "stream",
     "text": [
      "Warning message in scan(file = file, what = what, sep = sep, quote = quote, dec = dec, :\n",
      "“EOF внутри закавыченной строки”Warning message in read.table(paste0(path_class_daniil, file), header = FALSE, sep = \"\\t\"):\n",
      "“incomplete final line found by readTableHeader on '../go_daniil/electron_transfer_chain_reactions.txt'”"
     ]
    },
    {
     "data": {
      "text/html": [
       "1068"
      ],
      "text/latex": [
       "1068"
      ],
      "text/markdown": [
       "1068"
      ],
      "text/plain": [
       "[1] 1068"
      ]
     },
     "metadata": {},
     "output_type": "display_data"
    },
    {
     "data": {
      "text/html": [
       "1068"
      ],
      "text/latex": [
       "1068"
      ],
      "text/markdown": [
       "1068"
      ],
      "text/plain": [
       "[1] 1068"
      ]
     },
     "metadata": {},
     "output_type": "display_data"
    }
   ],
   "source": [
    "class_daniil = list.files(path_class_daniil)\n",
    "ancestors_of_terms = list()\n",
    "classes_of_terms = list()\n",
    "for(file in class_daniil)\n",
    "{\n",
    "#     print(file)\n",
    "    terms = read.table(paste0(path_class_daniil, file), header = FALSE, sep = '\\t')[,1]\n",
    "#     print(length(terms))\n",
    "    for(t in terms)\n",
    "    {\n",
    "        term = sprintf(\"GO:%07d\", as.numeric(substr(t, 4, nchar(t))))\n",
    "\n",
    "        ancestors_of_terms[[term]] = c(get_anc_by_term(term), term)\n",
    "        classes_of_terms[[term]] = file\n",
    "    } \n",
    "}\n",
    "length(ancestors_of_terms)\n",
    "length(classes_of_terms)"
   ]
  },
  {
   "cell_type": "markdown",
   "metadata": {},
   "source": [
    "## Read all clustering from DAVID and atribute new terms to existing caregories"
   ]
  },
  {
   "cell_type": "code",
   "execution_count": 4,
   "metadata": {},
   "outputs": [
    {
     "data": {
      "text/html": [
       "1068"
      ],
      "text/latex": [
       "1068"
      ],
      "text/markdown": [
       "1068"
      ],
      "text/plain": [
       "[1] 1068"
      ]
     },
     "metadata": {},
     "output_type": "display_data"
    },
    {
     "data": {
      "text/html": [
       "1068"
      ],
      "text/latex": [
       "1068"
      ],
      "text/markdown": [
       "1068"
      ],
      "text/plain": [
       "[1] 1068"
      ]
     },
     "metadata": {},
     "output_type": "display_data"
    }
   ],
   "source": [
    "ancestors_of_terms_init = ancestors_of_terms\n",
    "classes_of_terms_init = classes_of_terms\n",
    "# Annotation which Anna performed on the David clustering\n",
    "additional_annot = read.table('additional_annot.txt', header = FALSE, sep=c('\\t'), quote = \"\\\"\", row.names=1)\n",
    "# head(additional_annot)\n",
    "\n",
    "length(ancestors_of_terms_init)\n",
    "length(classes_of_terms_init)"
   ]
  },
  {
   "cell_type": "code",
   "execution_count": 5,
   "metadata": {},
   "outputs": [
    {
     "data": {
      "text/html": [
       "1068"
      ],
      "text/latex": [
       "1068"
      ],
      "text/markdown": [
       "1068"
      ],
      "text/plain": [
       "[1] 1068"
      ]
     },
     "metadata": {},
     "output_type": "display_data"
    },
    {
     "data": {
      "text/html": [
       "1068"
      ],
      "text/latex": [
       "1068"
      ],
      "text/markdown": [
       "1068"
      ],
      "text/plain": [
       "[1] 1068"
      ]
     },
     "metadata": {},
     "output_type": "display_data"
    },
    {
     "data": {
      "text/html": [
       "1526"
      ],
      "text/latex": [
       "1526"
      ],
      "text/markdown": [
       "1526"
      ],
      "text/plain": [
       "[1] 1526"
      ]
     },
     "metadata": {},
     "output_type": "display_data"
    },
    {
     "data": {
      "text/html": [
       "1526"
      ],
      "text/latex": [
       "1526"
      ],
      "text/markdown": [
       "1526"
      ],
      "text/plain": [
       "[1] 1526"
      ]
     },
     "metadata": {},
     "output_type": "display_data"
    }
   ],
   "source": [
    "ancestors_of_terms = ancestors_of_terms_init\n",
    "classes_of_terms = classes_of_terms_init\n",
    "length(classes_of_terms)\n",
    "length(ancestors_of_terms)\n",
    "\n",
    "david_cluster_id = 1\n",
    "files_clusters = list.files(path_david_clusters)\n",
    "for(i in 1:length(files_clusters))\n",
    "{   \n",
    "#     if(i == 12){break}\n",
    "    if(length(classes_of_terms) != length(ancestors_of_terms)) {break}\n",
    "    if(i %in% c(0)) {next}\n",
    "    file = files_clusters[i]\n",
    "    f = paste0(path_david_clusters, file)\n",
    "    d_tmp = read.table(text = gsub(\"~\", \"\\t\", readLines(f)), skip=2, header = FALSE, sep=c('\\t'), quote = \"\\\"\")\n",
    "    d_go = d_tmp[,2]\n",
    "    d_descriptor = d_tmp[,3]\n",
    "    d_descriptor\n",
    "    \n",
    "    classes_tmp = c()\n",
    "    for(term in d_go)\n",
    "    {\n",
    "        if(term %in% names(classes_of_terms))\n",
    "            {classes_tmp = c(classes_tmp, classes_of_terms[[term]])}\n",
    "        else\n",
    "            {classes_tmp = c(classes_tmp, 'None')}\n",
    "    }\n",
    "    classes_res = unique(setdiff(classes_tmp, c('general_terms.txt', 'other.txt', 'None')))\n",
    "#     print(length(classes_res))\n",
    "    if(length(classes_res) < 1)\n",
    "    {\n",
    "        for(term in d_go)\n",
    "        {\n",
    "            ancestors_of_terms[[term]] = c(get_anc_by_term(term), term)\n",
    "            classes_of_terms[[term]] = paste0('david_cluster_', as.character(david_cluster_id))\n",
    "        } \n",
    "        david_cluster_id = david_cluster_id + 1\n",
    "        next\n",
    "    }\n",
    "    \n",
    "    if(length(intersect(classes_tmp, c('general_terms.txt', 'other.txt', 'None'))) == 0){ next}\n",
    "    \n",
    "    if(length(classes_res) == 1)\n",
    "    {\n",
    "        for(term in d_go)\n",
    "        {\n",
    "            ancestors_of_terms[[term]] = c(get_anc_by_term(term), term)\n",
    "            classes_of_terms[[term]] = classes_res\n",
    "        } \n",
    "        next\n",
    "    }\n",
    "    # For Annotation that Anna made\n",
    "    for(term in d_go)\n",
    "    {\n",
    "        if(term %in% names(classes_of_terms)){next}\n",
    "        ancestors_of_terms[[term]] = c(get_anc_by_term(term), term)\n",
    "        classes_of_terms[[term]] = as.character(additional_annot[term, 2])\n",
    "    } \n",
    "}\n",
    "length(classes_of_terms)\n",
    "length(ancestors_of_terms)"
   ]
  },
  {
   "cell_type": "code",
   "execution_count": 178,
   "metadata": {},
   "outputs": [],
   "source": [
    "# ------------------------------------\n",
    "# # previously helpful\n",
    "# ------------------------------------\n",
    "# classes_tmp = c()\n",
    "# for(term in d_go)\n",
    "# {\n",
    "#     if(term %in% names(classes_of_terms))\n",
    "#         {classes_tmp = c(classes_tmp, classes_of_terms[[term]])}\n",
    "#     else\n",
    "#         {classes_tmp = c(classes_tmp, 'None')}\n",
    "# }\n",
    "# cbind(as.character(d_go),as.character( d_descriptor), classes_tmp)\n",
    "# # d_descriptor\n",
    "# write.table(file = 'tmp.txt', x=cbind(as.character(d_go),as.character( d_descriptor), classes_tmp), \n",
    "#             quote = FALSE, row.names=FALSE, col.names=FALSE, sep='\\t')"
   ]
  },
  {
   "cell_type": "markdown",
   "metadata": {},
   "source": [
    "## Try to attribute general_terms.txt and others.txt to an informative category"
   ]
  },
  {
   "cell_type": "code",
   "execution_count": 13,
   "metadata": {},
   "outputs": [],
   "source": [
    "# terms_daniil = names(ancestors_of_terms)\n",
    "# for(term in terms_daniil)\n",
    "# {\n",
    "#     if(!(classes_of_terms[[term]] %in% c('general_terms.txt', 'other.txt', 'other_metabolism.txt')))\n",
    "#         {next}\n",
    "#     class_tmp = get_class_by_term(term, ancestors_of_terms, classes_of_terms)\n",
    "#     if( is.null(class_tmp)){ next }\n",
    "#     print('ok')\n",
    "#     print(classes_of_terms[[term]], class_tmp)\n",
    "#     classes_of_terms[[term]] = class_tmp\n",
    "# }"
   ]
  },
  {
   "cell_type": "markdown",
   "metadata": {},
   "source": [
    "# Attribute DAVID terms to existing ones by the intersection of ancestrals"
   ]
  },
  {
   "cell_type": "code",
   "execution_count": 93,
   "metadata": {},
   "outputs": [],
   "source": [
    "david_data = read.table(paste0(path_ensembl, file_david_terms), header = FALSE, sep='\\t', quote = \"\\\"\")\n",
    "david_terms = as.character(david_data[,2])\n",
    "# head(david_terms)\n",
    "\n",
    "new_class_flag = c()\n",
    "res = c()\n",
    "for(term in david_terms)\n",
    "{\n",
    "    if(term %in% names(ancestors_of_terms))\n",
    "    {\n",
    "        res = c(res, classes_of_terms[[term]])\n",
    "        new_class_flag = c(new_class_flag, 0)\n",
    "    }else\n",
    "    {\n",
    "        class_tmp = get_class_by_term(term, ancestors_of_terms, classes_of_terms)\n",
    "        \n",
    "        if(is.null(class_tmp))\n",
    "        {\n",
    "#             class_tmp = get_class_by_similar_anc(term, ancestors_of_terms, classes_of_terms)\n",
    "#             res = c(res, class_tmp)\n",
    "            res = c(res, 'other.txt')\n",
    "#             print(class_tmp)\n",
    "        }else\n",
    "        {\n",
    "#             print(class_tmp)\n",
    "            res = c(res, paste0(class_tmp[1], collapse = '_'))\n",
    "        }\n",
    "        new_class_flag = c(new_class_flag, 1)\n",
    "    }\n",
    "}\n",
    "\n",
    "z = cbind(david_data, res, new_class_flag)\n",
    "write.table(file = 'david_anna_annot.txt', x=z, quote = FALSE, \n",
    "            col.names = FALSE, row.names = FALSE, sep='\\t')\n"
   ]
  },
  {
   "cell_type": "code",
   "execution_count": 94,
   "metadata": {},
   "outputs": [
    {
     "data": {
      "text/html": [
       "<table>\n",
       "<tbody>\n",
       "\t<tr><th scope=row>GO:0005730</th><td>other.txt                       </td></tr>\n",
       "\t<tr><th scope=row>GO:0005634</th><td>general_terms.txt               </td></tr>\n",
       "\t<tr><th scope=row>GO:0042393</th><td>dna_metabolism_and_chromatin.txt</td></tr>\n",
       "\t<tr><th scope=row>GO:0005654</th><td>general_terms.txt               </td></tr>\n",
       "\t<tr><th scope=row>GO:0005737</th><td>general_terms.txt               </td></tr>\n",
       "\t<tr><th scope=row>GO:0005515</th><td>general_terms.txt               </td></tr>\n",
       "</tbody>\n",
       "</table>\n"
      ],
      "text/latex": [
       "\\begin{tabular}{r|l}\n",
       "\tGO:0005730 & other.txt                       \\\\\n",
       "\tGO:0005634 & general\\_terms.txt               \\\\\n",
       "\tGO:0042393 & dna\\_metabolism\\_and\\_chromatin.txt\\\\\n",
       "\tGO:0005654 & general\\_terms.txt               \\\\\n",
       "\tGO:0005737 & general\\_terms.txt               \\\\\n",
       "\tGO:0005515 & general\\_terms.txt               \\\\\n",
       "\\end{tabular}\n"
      ],
      "text/markdown": [
       "\n",
       "| GO:0005730 | other.txt                        | \n",
       "| GO:0005634 | general_terms.txt                | \n",
       "| GO:0042393 | dna_metabolism_and_chromatin.txt | \n",
       "| GO:0005654 | general_terms.txt                | \n",
       "| GO:0005737 | general_terms.txt                | \n",
       "| GO:0005515 | general_terms.txt                | \n",
       "\n",
       "\n"
      ],
      "text/plain": [
       "           [,1]                            \n",
       "GO:0005730 other.txt                       \n",
       "GO:0005634 general_terms.txt               \n",
       "GO:0042393 dna_metabolism_and_chromatin.txt\n",
       "GO:0005654 general_terms.txt               \n",
       "GO:0005737 general_terms.txt               \n",
       "GO:0005515 general_terms.txt               "
      ]
     },
     "metadata": {},
     "output_type": "display_data"
    }
   ],
   "source": [
    "result_david = as.matrix(res)\n",
    "row.names(result_david) <- david_terms\n",
    "head(result_david)"
   ]
  },
  {
   "cell_type": "markdown",
   "metadata": {},
   "source": [
    "#  <span style=\"color:orange\">Table with results text</span>"
   ]
  },
  {
   "cell_type": "code",
   "execution_count": 130,
   "metadata": {},
   "outputs": [],
   "source": [
    "name_classes = unique(classes_of_terms)\n",
    "results_pval = matrix(, nrow = 0, ncol = length(name_classes))\n",
    "results_count = matrix(, nrow = 0, ncol = length(name_classes))\n",
    "colnames(results_pval) <- name_classes\n",
    "colnames(results_count) <- name_classes\n",
    "\n",
    "for(tag in target_tags)\n",
    "{\n",
    "    for(outlier in c('up', 'down'))\n",
    "    {\n",
    "        for(organism in organisms)\n",
    "        {\n",
    "            results_pval = rbind(results_pval, rep(0, length(name_classes)))\n",
    "            n = nrow(results_pval)\n",
    "            pattern = paste0(c(organism, '_', tag, '_', outlier), collapse = '')\n",
    "            row.names(results_pval)[n] <- pattern\n",
    "            \n",
    "            results_count = rbind(results_count, rep(0, length(name_classes)))\n",
    "            n = nrow(results_count)\n",
    "            pattern = paste0(c(organism, '_', tag, '_', outlier), collapse = '')\n",
    "            row.names(results_count)[n] <- pattern\n",
    "            \n",
    "            file = paste0(c(path_ensembl, 'david_', pattern, '.txt'), collapse = '')\n",
    "            d = read.table(file, header = TRUE, sep=c('\\t'), quote = \"\\\"\")\n",
    "            d_category = d[,'Term']\n",
    "            d_pvalue = d[,'PValue']\n",
    "            \n",
    "            id = sapply(d_category, function(x) (grepl('~', x)) & (substring(x, 1, 1) == 'G'))\n",
    "            d_category = as.character(d_category[id])\n",
    "            d_pvalue = d_pvalue[id]\n",
    "            d_category = sapply(d_category, function(x) gsub( \"~.*$\", \"\", x ))\n",
    "                                \n",
    "            d_class = result_david[d_category,]\n",
    "            unique_class = unique(d_class)\n",
    "            for(class_tmp in unique_class)\n",
    "            {\n",
    "                if(class_tmp %in% bad_list) {next}\n",
    "                if(is.na(class_tmp)) {next}\n",
    "                p_vals = d_pvalue[d_class %in% class_tmp]\n",
    "                if(length(p_vals) > 1)\n",
    "                {\n",
    "#                     results[n, class_tmp] = length(p_vals)\n",
    "                    results_pval[n, class_tmp] = allmetap(p_vals, method = 'sumlog')[,'p'][[1]]\n",
    "                } else if(length(p_vals) == 1){\n",
    "                    results_pval[n, class_tmp] = p_vals\n",
    "                }\n",
    "                results_count[n, class_tmp] = length(p_vals)\n",
    "\n",
    "            }\n",
    "        }\n",
    "    }\n",
    "}\n",
    "write.table(file = 'results_pval.txt', x = cbind(sample = rownames(results_pval), results_pval), \n",
    "            quote = FALSE, sep='\\t', col.names = TRUE, row.names = FALSE)\n",
    "write.table(file = 'results_count.txt', x = cbind(sample = rownames(results_count), results_count), \n",
    "            quote = FALSE, sep='\\t', col.names = TRUE, row.names = FALSE)"
   ]
  },
  {
   "cell_type": "code",
   "execution_count": 124,
   "metadata": {},
   "outputs": [
    {
     "ename": "ERROR",
     "evalue": "Error in `[<-`(`*tmp*`, n, class_tmp, value = 1.99554319563884e-06): подгруппа выходит за пределы\n",
     "output_type": "error",
     "traceback": [
      "Error in `[<-`(`*tmp*`, n, class_tmp, value = 1.99554319563884e-06): подгруппа выходит за пределы\nTraceback:\n"
     ]
    }
   ],
   "source": [
    "p_vals = d_pvalue[d_class %in% class_tmp]\n",
    "                if(length(p_vals) > 1)\n",
    "                {\n",
    "#                     results[n, class_tmp] = length(p_vals)\n",
    "                    results_pval[n, class_tmp] = allmetap(p_vals, method = 'sumlog')[,'p'][[1]]\n",
    "                } else if(length(p_vals) == 1){\n",
    "                    results_pval[n, class_tmp] = p_vals\n",
    "                }"
   ]
  },
  {
   "cell_type": "code",
   "execution_count": 126,
   "metadata": {},
   "outputs": [
    {
     "data": {
      "text/html": [
       "<ol class=list-inline>\n",
       "\t<li>0</li>\n",
       "\t<li>0</li>\n",
       "\t<li>0</li>\n",
       "\t<li>0</li>\n",
       "\t<li>0</li>\n",
       "\t<li>0</li>\n",
       "\t<li>0</li>\n",
       "\t<li>0</li>\n",
       "\t<li>0</li>\n",
       "\t<li>0</li>\n",
       "\t<li>0</li>\n",
       "\t<li>0</li>\n",
       "\t<li>0</li>\n",
       "\t<li>0</li>\n",
       "\t<li>0</li>\n",
       "\t<li>0</li>\n",
       "\t<li>0</li>\n",
       "\t<li>0</li>\n",
       "\t<li>0</li>\n",
       "\t<li>0</li>\n",
       "\t<li>0</li>\n",
       "\t<li>0</li>\n",
       "\t<li>0</li>\n",
       "\t<li>0</li>\n",
       "\t<li>0</li>\n",
       "</ol>\n"
      ],
      "text/latex": [
       "\\begin{enumerate*}\n",
       "\\item 0\n",
       "\\item 0\n",
       "\\item 0\n",
       "\\item 0\n",
       "\\item 0\n",
       "\\item 0\n",
       "\\item 0\n",
       "\\item 0\n",
       "\\item 0\n",
       "\\item 0\n",
       "\\item 0\n",
       "\\item 0\n",
       "\\item 0\n",
       "\\item 0\n",
       "\\item 0\n",
       "\\item 0\n",
       "\\item 0\n",
       "\\item 0\n",
       "\\item 0\n",
       "\\item 0\n",
       "\\item 0\n",
       "\\item 0\n",
       "\\item 0\n",
       "\\item 0\n",
       "\\item 0\n",
       "\\end{enumerate*}\n"
      ],
      "text/markdown": [
       "1. 0\n",
       "2. 0\n",
       "3. 0\n",
       "4. 0\n",
       "5. 0\n",
       "6. 0\n",
       "7. 0\n",
       "8. 0\n",
       "9. 0\n",
       "10. 0\n",
       "11. 0\n",
       "12. 0\n",
       "13. 0\n",
       "14. 0\n",
       "15. 0\n",
       "16. 0\n",
       "17. 0\n",
       "18. 0\n",
       "19. 0\n",
       "20. 0\n",
       "21. 0\n",
       "22. 0\n",
       "23. 0\n",
       "24. 0\n",
       "25. 0\n",
       "\n",
       "\n"
      ],
      "text/plain": [
       " [1] 0 0 0 0 0 0 0 0 0 0 0 0 0 0 0 0 0 0 0 0 0 0 0 0 0"
      ]
     },
     "metadata": {},
     "output_type": "display_data"
    }
   ],
   "source": [
    "results_pval[n, ]"
   ]
  },
  {
   "cell_type": "code",
   "execution_count": null,
   "metadata": {},
   "outputs": [],
   "source": []
  }
 ],
 "metadata": {
  "kernelspec": {
   "display_name": "R",
   "language": "R",
   "name": "ir"
  },
  "language_info": {
   "codemirror_mode": "r",
   "file_extension": ".r",
   "mimetype": "text/x-r-source",
   "name": "R",
   "pygments_lexer": "r",
   "version": "3.5.1"
  }
 },
 "nbformat": 4,
 "nbformat_minor": 2
}
